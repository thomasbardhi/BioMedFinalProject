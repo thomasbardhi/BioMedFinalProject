{
  "nbformat": 4,
  "nbformat_minor": 0,
  "metadata": {
    "colab": {
      "provenance": []
    },
    "language_info": {
      "codemirror_mode": {
        "name": "ipython",
        "version": 3
      },
      "file_extension": ".py",
      "mimetype": "text/x-python",
      "name": "python",
      "nbconvert_exporter": "python",
      "pygments_lexer": "ipython3",
      "version": "3.5.2"
    },
    "kernelspec": {
      "display_name": "Python 3",
      "language": "python",
      "name": "python3"
    },
    "accelerator": "GPU"
  },
  "cells": [
    {
      "cell_type": "code",
      "source": [
        "try:\n",
        "  from google.colab import drive\n",
        "  IN_COLAB=True\n",
        "except:\n",
        "  IN_COLAB=False\n",
        "\n",
        "if IN_COLAB:\n",
        "  print(\"We're running Colab\")"
      ],
      "metadata": {
        "colab": {
          "base_uri": "https://localhost:8080/"
        },
        "id": "fw307k-PMgOB",
        "outputId": "6d1218de-295b-48ae-c133-74980724de1d"
      },
      "execution_count": null,
      "outputs": [
        {
          "output_type": "stream",
          "name": "stdout",
          "text": [
            "We're running Colab\n"
          ]
        }
      ]
    },
    {
      "cell_type": "code",
      "source": [
        "if IN_COLAB:\n",
        "  # Mount the Google Drive at mount\n",
        "  mount='/content/gdrive'\n",
        "  print(\"Colab: mounting Google drive on \", mount)\n",
        "\n",
        "  drive.mount(mount)\n",
        "\n",
        "  # Switch to the directory on the Google Drive that you want to use\n",
        "  import os\n",
        "  drive_root = mount + \"/My Drive/Colab Notebooks/Biomed FP\"\n",
        "  \n",
        "  # Create drive_root if it doesn't exist\n",
        "  create_drive_root = True\n",
        "  if create_drive_root:\n",
        "    print(\"\\nColab: making sure \", drive_root, \" exists.\")\n",
        "    os.makedirs(drive_root, exist_ok=True)\n",
        "  \n",
        "  # Change to the directory\n",
        "  print(\"\\nColab: Changing directory to \", drive_root)\n",
        "  %cd $drive_root"
      ],
      "metadata": {
        "colab": {
          "base_uri": "https://localhost:8080/"
        },
        "id": "OvJKXkgDMhx1",
        "outputId": "c0d5e8e4-891d-4611-8fcc-5ebb5626d21c"
      },
      "execution_count": null,
      "outputs": [
        {
          "output_type": "stream",
          "name": "stdout",
          "text": [
            "Colab: mounting Google drive on  /content/gdrive\n",
            "Mounted at /content/gdrive\n",
            "\n",
            "Colab: making sure  /content/gdrive/My Drive/Colab Notebooks/Biomed FP  exists.\n",
            "\n",
            "Colab: Changing directory to  /content/gdrive/My Drive/Colab Notebooks/Biomed FP\n",
            "/content/gdrive/My Drive/Colab Notebooks/Biomed FP\n"
          ]
        }
      ]
    },
    {
      "cell_type": "code",
      "metadata": {
        "id": "tsAkdXVP99NC"
      },
      "source": [
        "import os\n",
        "from os.path import exists, join, basename, splitext\n",
        "\n",
        "# TODO: change URL to your fork of my repository if necessary.\n",
        "git_repo_url = 'https://github.com/Tony607/mmdetection_instance_segmentation_demo'\n",
        "\n",
        "project_name = os.path.abspath(splitext(basename(git_repo_url))[0])\n",
        "mmdetection_dir = os.path.join(project_name, \"mmdetection\")\n",
        "if not exists(project_name):\n",
        "    # clone \"depth 1\" will only get the latest copy of the relevant files.\n",
        "    !git clone -q --recurse-submodules --depth 1 $git_repo_url\n",
        "    print(\"Update mmdetection repo\")\n",
        "    !cd {mmdetection_dir} && git checkout master && git pull\n",
        "    # dependencies\n",
        "    !pip install -q mmcv terminaltables\n",
        "    # build\n",
        "    !cd {mmdetection_dir} && python setup.py install\n",
        "    !pip install -r {os.path.join(mmdetection_dir, \"requirements.txt\")}"
      ],
      "execution_count": null,
      "outputs": []
    },
    {
      "cell_type": "code",
      "metadata": {
        "id": "GlkT06D0Nx5k",
        "colab": {
          "base_uri": "https://localhost:8080/"
        },
        "outputId": "60acda44-edcc-4808-b1d8-d93ee0eee33c"
      },
      "source": [
        "import os\n",
        "from os.path import exists, join, basename, splitext\n",
        "\n",
        "git_repo_url = 'https://github.com/Tony607/mmdetection_instance_segmentation_demo'\n",
        "\n",
        "project_name = os.path.abspath(splitext(basename(git_repo_url))[0])\n",
        "mmdetection_dir = os.path.join(project_name, \"mmdetection\")"
      ],
      "execution_count": null,
      "outputs": [
        {
          "output_type": "stream",
          "name": "stdout",
          "text": [
            "/content\n"
          ]
        }
      ]
    },
    {
      "cell_type": "code",
      "metadata": {
        "id": "IUB0TkVJJ751"
      },
      "source": [
        "import os\n",
        "import sys\n",
        "sys.path.append(mmdetection_dir)\n",
        "import time\n",
        "import matplotlib\n",
        "import matplotlib.pylab as plt\n",
        "plt.rcParams[\"axes.grid\"] = False\n",
        "\n",
        "MODELS_CONFIG = {\n",
        "    'mask_rcnn_r50_fpn_1x': {\n",
        "        'config_file': 'configs/mask_rcnn_r50_fpn.py'\n",
        "    }\n",
        "}"
      ],
      "execution_count": null,
      "outputs": []
    },
    {
      "cell_type": "code",
      "metadata": {
        "id": "GGTdkzBJJ71E"
      },
      "source": [
        "selected_model = 'mask_rcnn_r50_fpn_1x'\n",
        "\n",
        "# Total training epochs.\n",
        "total_epochs = 20\n",
        "\n",
        "config_file = MODELS_CONFIG[selected_model]['config_file']"
      ],
      "execution_count": null,
      "outputs": []
    },
    {
      "cell_type": "markdown",
      "metadata": {
        "id": "M3c6a77tJ_oF"
      },
      "source": [
        "## Modify config file"
      ]
    },
    {
      "cell_type": "code",
      "metadata": {
        "id": "85KCI0q7J7wE"
      },
      "source": [
        "import os\n",
        "config_fname = os.path.join(project_name, 'mmdetection', config_file)\n",
        "\n",
        "assert os.path.isfile(config_fname), '`{}` not exist'.format(config_fname)\n",
        "config_fname"
      ],
      "execution_count": null,
      "outputs": []
    },
    {
      "cell_type": "code",
      "metadata": {
        "id": "JBvApRRKebnY"
      },
      "source": [
        "import json\n",
        "annotation_path = os.path.join(project_name, \"data\", \"trainval.json\")\n",
        "json_file = open(annotation_path)\n",
        "coco = json.load(json_file)\n",
        "print(coco[\"categories\"])\n",
        "classes_names = [category[\"name\"] for category in coco[\"categories\"]]\n",
        "print(classes_names)"
      ],
      "execution_count": null,
      "outputs": []
    },
    {
      "cell_type": "code",
      "metadata": {
        "id": "yFrN7i2Qpr1H"
      },
      "source": [
        "checkpoint_file = os.path.join(work_dir, \"latest.pth\")\n",
        "assert os.path.isfile(\n",
        "    checkpoint_file), '`{}` not exist'.format(checkpoint_file)\n",
        "checkpoint_file = os.path.abspath(checkpoint_file)\n",
        "checkpoint_file"
      ],
      "execution_count": null,
      "outputs": []
    },
    {
      "cell_type": "markdown",
      "metadata": {
        "id": "4uCmYPNCVpqP"
      },
      "source": [
        "## Test predict\n",
        "\n",
        "Turn down the `score_thr` if you think the model is missing any bbox.\n",
        "Turn up the `score_thr` if you see too much overlapping bboxes with low scores."
      ]
    },
    {
      "cell_type": "code",
      "metadata": {
        "id": "FNTFhKuVVhMr"
      },
      "source": [
        "import time\n",
        "import matplotlib\n",
        "import matplotlib.pylab as plt\n",
        "plt.rcParams[\"axes.grid\"] = False\n",
        "\n",
        "import mmcv\n",
        "from mmcv.runner import load_checkpoint\n",
        "import mmcv.visualization.image as mmcv_image\n",
        "# fix for colab\n",
        "\n",
        "\n",
        "def imshow(img, win_name='', wait_time=0): plt.figure(\n",
        "    figsize=(50, 50)); plt.imshow(img)\n",
        "\n",
        "\n",
        "mmcv_image.imshow = imshow\n",
        "from mmdet.models import build_detector\n",
        "from mmdet.apis import inference_detector, show_result, init_detector"
      ],
      "execution_count": null,
      "outputs": []
    },
    {
      "cell_type": "code",
      "metadata": {
        "id": "qVJBetouno4q"
      },
      "source": [
        "score_thr = 0.5\n",
        "\n",
        "# build the model from a config file and a checkpoint file\n",
        "model = init_detector(config_fname, checkpoint_file)\n",
        "\n",
        "# test a single image and show the results\n",
        "img = 'data/images/15.jpg'\n",
        "\n",
        "result = inference_detector(model, img)\n",
        "show_result(img, result, classes_names,\n",
        "            score_thr=score_thr, out_file=\"result.jpg\")"
      ],
      "execution_count": null,
      "outputs": []
    },
    {
      "cell_type": "code",
      "metadata": {
        "id": "smM4hrXBo9_E"
      },
      "source": [
        "from IPython.display import Image\n",
        "Image(filename='result.jpg')"
      ],
      "execution_count": null,
      "outputs": []
    },
    {
      "cell_type": "code",
      "metadata": {
        "id": "ufug_6bONd9d"
      },
      "source": [
        "from google.colab import files\n",
        "\n",
        "files.download(config_fname)"
      ],
      "execution_count": null,
      "outputs": []
    }
  ]
}